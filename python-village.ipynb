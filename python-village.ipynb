{
 "cells": [
  {
   "cell_type": "code",
   "execution_count": null,
   "metadata": {},
   "outputs": [],
   "source": [
    "# inline plots\n",
    "%matplotlib inline\n",
    "# automatically reload modified functions\n",
    "%load_ext autoreload\n",
    "%autoreload 2"
   ]
  },
  {
   "cell_type": "markdown",
   "metadata": {},
   "source": [
    "# Installing Python\n",
    "After downloading and installing Python, type import this into the Python command line and see what happens. Then, click the \"Download dataset\" button below and copy the Zen of Python into the space provided."
   ]
  },
  {
   "cell_type": "code",
   "execution_count": null,
   "metadata": {},
   "outputs": [],
   "source": [
    "import this"
   ]
  },
  {
   "cell_type": "markdown",
   "metadata": {},
   "source": [
    "# Variables and Some Arithmetic\n",
    "**Given:** Two positive integers *a* and *b*, each less than 1000.\n",
    "\n",
    "**Return:** The integer corresponding to the square of the hypotenuse of the right triangle whose legs have lengths *a* and *b*."
   ]
  },
  {
   "cell_type": "code",
   "execution_count": null,
   "metadata": {},
   "outputs": [],
   "source": [
    "def arithmetic(a, b):\n",
    "    return a**2 + b**2\n",
    "\n",
    "arithmetic(948, 896)"
   ]
  },
  {
   "cell_type": "markdown",
   "metadata": {},
   "source": [
    "# Strings and Lists\n",
    "**Given:** A string *s* of length at most 200 letters and four integers *a*, *b*, *c* and *d*.\n",
    "\n",
    "**Return:** The slice of this string from indices a through *b* and *c* through *d* (with space in between), inclusively. In other words, we should include elements *s[b]* and *s[d]* in our slice.\n"
   ]
  },
  {
   "cell_type": "code",
   "execution_count": 38,
   "metadata": {},
   "outputs": [
    {
     "data": {
      "text/plain": [
       "'Grus flavomaculatus'"
      ]
     },
     "execution_count": 38,
     "metadata": {},
     "output_type": "execute_result"
    }
   ],
   "source": [
    "def slice(str, a, b, c, d):\n",
    "    first = str[a:b+1]\n",
    "    second = str[c:d+1]\n",
    "    return first + ' ' + second\n",
    "\n",
    "input = 'Oy0sApWZpGmZAnzBDkXXxIMyWa0xRhpadhOWRhm3GFEu8'\\\n",
    "    'LQ2Hx0POGrusKB4DYZWR2xUriSnvtDBO9YgeI4hoNEOVHw8ONIJ63'\\\n",
    "        'af7eDnmUMoTvA5YOuNkmbZopQjKTL0PxPG4flavomaculatusASUdHOOTCPueQ.'\n",
    "slice(input, 53, 56, 133, 146)"
   ]
  },
  {
   "cell_type": "markdown",
   "metadata": {},
   "source": [
    "# Conditions and Loops\n",
    "**Given:** Two positive integers *a* and *b* (*a* < *b* < 10000).\n",
    "\n",
    "**Return:** The sum of all odd integers from *a* through *b*, inclusively."
   ]
  },
  {
   "cell_type": "code",
   "execution_count": null,
   "metadata": {},
   "outputs": [],
   "source": [
    "def odd_sum(first, last):\n",
    "    sum = 0\n",
    "    for n in range(first, last):\n",
    "        if n % 2 != 0:\n",
    "            sum += n\n",
    "    return sum\n",
    "\n",
    "odd_sum(4690, 9328)"
   ]
  },
  {
   "cell_type": "markdown",
   "metadata": {},
   "source": [
    "# Working with Files\n",
    "**Given:** A file containing at most 1000 lines.\n",
    "\n",
    "**Return:** A file containing all the even-numbered lines from the original file. Assume 1-based numbering of lines."
   ]
  },
  {
   "cell_type": "code",
   "execution_count": null,
   "metadata": {},
   "outputs": [],
   "source": [
    "def even_lines(file):\n",
    "    f = open(file, 'r') # open argument file in read mode and create file object\n",
    "    list = f.readlines() # get all line numbers\n",
    "    w = open('output.txt', 'w') # open new file object in write mode for output\n",
    "    for line in range(1, len(list), 2): # return lines 2, 4, 6...\n",
    "        w.write(list[line])\n",
    "    f.close()\n",
    "    w.close()\n",
    "    \n",
    "even_lines(\"rosalind_ini5.txt\")"
   ]
  },
  {
   "cell_type": "markdown",
   "metadata": {},
   "source": [
    "# Intro to Python dictionary\n",
    "**Given:** A string *s* of length at most 10000 letters.\n",
    "\n",
    "**Return:** The number of occurrences of each word in *s*, where words are separated by spaces. Words are case-sensitive, and the lines in the output can be in any order."
   ]
  },
  {
   "cell_type": "code",
   "execution_count": 42,
   "metadata": {},
   "outputs": [
    {
     "name": "stdout",
     "output_type": "stream",
     "text": [
      "When\n",
      "1\n",
      "I\n",
      "2\n",
      "find\n",
      "1\n",
      "myself\n",
      "1\n",
      "in\n",
      "4\n",
      "times\n",
      "1\n",
      "of\n",
      "11\n",
      "trouble\n",
      "1\n",
      "Mother\n",
      "2\n",
      "Mary\n",
      "2\n",
      "comes\n",
      "2\n",
      "to\n",
      "3\n",
      "me\n",
      "4\n",
      "Speaking\n",
      "3\n",
      "words\n",
      "7\n",
      "wisdom\n",
      "7\n",
      "let\n",
      "30\n",
      "it\n",
      "36\n",
      "be\n",
      "40\n",
      "And\n",
      "3\n",
      "my\n",
      "1\n",
      "hour\n",
      "1\n",
      "darkness\n",
      "1\n",
      "she\n",
      "1\n",
      "is\n",
      "4\n",
      "standing\n",
      "1\n",
      "right\n",
      "1\n",
      "front\n",
      "1\n",
      "Let\n",
      "6\n",
      "Whisper\n",
      "4\n",
      "when\n",
      "2\n",
      "the\n",
      "4\n",
      "broken\n",
      "1\n",
      "hearted\n",
      "1\n",
      "people\n",
      "1\n",
      "living\n",
      "1\n",
      "world\n",
      "1\n",
      "agree\n",
      "1\n",
      "There\n",
      "4\n",
      "will\n",
      "5\n",
      "an\n",
      "4\n",
      "answer\n",
      "4\n",
      "For\n",
      "1\n",
      "though\n",
      "1\n",
      "they\n",
      "2\n",
      "may\n",
      "1\n",
      "parted\n",
      "1\n",
      "there\n",
      "2\n",
      "still\n",
      "2\n",
      "a\n",
      "2\n",
      "chance\n",
      "1\n",
      "that\n",
      "2\n",
      "see\n",
      "1\n",
      "night\n",
      "1\n",
      "cloudy\n",
      "1\n",
      "light\n",
      "1\n",
      "shines\n",
      "1\n",
      "on\n",
      "1\n",
      "Shine\n",
      "1\n",
      "until\n",
      "1\n",
      "tomorrow\n",
      "1\n",
      "wake\n",
      "1\n",
      "up\n",
      "1\n",
      "sound\n",
      "1\n",
      "music\n",
      "1\n",
      "yeah\n",
      "2\n",
      "be\n",
      "\n",
      "1\n"
     ]
    }
   ],
   "source": [
    "def word_tally(s):\n",
    "    tally = {} # create new empty dictionary\n",
    "\n",
    "    for word in s.split(' '): # split string into list of words separated by spaces\n",
    "        if word in tally: # if current word is already in dictionary\n",
    "            tally[word] += 1 # increase count of word by 1\n",
    "        else: # if current word is not in dictionary\n",
    "            tally[word] = 1 # create new dictionary entry and set to 1\n",
    "\n",
    "    for key, value in tally.items(): # returns view object containing key-value pairs in dictionary\n",
    "        print(key)\n",
    "        print(value)\n",
    " \n",
    "f = open(\"dictionary_input.txt\") # open file containing long string\n",
    "input = f.read() # read file as string\n",
    "f.close() # close file\n",
    "word_tally(input)"
   ]
  }
 ],
 "metadata": {
  "interpreter": {
   "hash": "d5ecb1748f467b5d4777d690805f96544439de96e9f967607df4f074097c46db"
  },
  "kernelspec": {
   "display_name": "Python 3.8.8 ('base')",
   "language": "python",
   "name": "python3"
  },
  "language_info": {
   "codemirror_mode": {
    "name": "ipython",
    "version": 3
   },
   "file_extension": ".py",
   "mimetype": "text/x-python",
   "name": "python",
   "nbconvert_exporter": "python",
   "pygments_lexer": "ipython3",
   "version": "3.8.8"
  },
  "orig_nbformat": 4
 },
 "nbformat": 4,
 "nbformat_minor": 2
}
